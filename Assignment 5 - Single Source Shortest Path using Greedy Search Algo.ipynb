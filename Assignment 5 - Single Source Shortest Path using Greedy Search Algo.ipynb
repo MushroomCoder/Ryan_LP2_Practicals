{
 "cells": [
  {
   "cell_type": "markdown",
   "id": "97b16d5a",
   "metadata": {},
   "source": [
    "Seat No.: T191094350 Name : Aryan Sirdesai\n",
    "\n",
    "Problem Statement : Implement Greedy search algorithm for :\n",
    "                    II. Single-Source Shortest Path Problem"
   ]
  },
  {
   "cell_type": "markdown",
   "id": "10870e30",
   "metadata": {},
   "source": [
    "import sys\n",
    "\n",
    "def greedy_search(graph, source):\n",
    "    distances = {node: sys.maxsize for node in graph}\n",
    "    distances[source] = 0\n",
    "    unvisited = set(graph.keys())\n",
    "\n",
    "    while unvisited:\n",
    "        current_node = min(unvisited, key=lambda node: distances[node])\n",
    "        unvisited.remove(current_node)\n",
    "        for neighbor, weight in graph[current_node].items():\n",
    "            if neighbor in unvisited:\n",
    "                new_distance = distances[current_node] + weight\n",
    "                if new_distance < distances[neighbor]:\n",
    "                    distances[neighbor] = new_distance\n",
    "\n",
    "    return distances\n",
    "\n",
    "graph = {}\n",
    "n = int(input(\"Enter the Number of Edges: \"))\n",
    "for i in range(n):\n",
    "    edge = input(\"Enter the Edge (Source Destination Weight): \").split()\n",
    "    source, destination, weight = edge[0], edge[1], int(edge[2])\n",
    "    if source not in graph:\n",
    "        graph[source] = {}\n",
    "    graph[source][destination] = weight\n",
    "\n",
    "source = input(\"Enter the Source Node: \")\n",
    "distances = greedy_search(graph, source)\n",
    "print(distances)"
   ]
  },
  {
   "cell_type": "code",
   "execution_count": null,
   "id": "a5723ae8",
   "metadata": {},
   "outputs": [],
   "source": []
  }
 ],
 "metadata": {
  "kernelspec": {
   "display_name": "Python 3 (ipykernel)",
   "language": "python",
   "name": "python3"
  },
  "language_info": {
   "codemirror_mode": {
    "name": "ipython",
    "version": 3
   },
   "file_extension": ".py",
   "mimetype": "text/x-python",
   "name": "python",
   "nbconvert_exporter": "python",
   "pygments_lexer": "ipython3",
   "version": "3.9.13"
  }
 },
 "nbformat": 4,
 "nbformat_minor": 5
}

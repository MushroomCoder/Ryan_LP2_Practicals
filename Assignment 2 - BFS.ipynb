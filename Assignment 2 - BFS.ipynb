{
 "cells": [
  {
   "cell_type": "markdown",
   "id": "ea271697",
   "metadata": {},
   "source": [
    "Seat No.: T191094350; Name : Aryan Sirdesai\n",
    "        \n",
    "Problem Statement : \n",
    "Implement Breadth First Search algorithm. Use an undirected \n",
    "graph and develop a recursive algorithm for searching all the \n",
    "vertices of a graph or tree data structure."
   ]
  },
  {
   "cell_type": "code",
   "execution_count": 3,
   "id": "e344be34",
   "metadata": {},
   "outputs": [
    {
     "name": "stdout",
     "output_type": "stream",
     "text": [
      "Enter the number of vertices: 5\n",
      "Enter the number of edges: 4\n",
      "Enter an edge (source destination): A B\n",
      "Enter an edge (source destination): B C\n",
      "Enter an edge (source destination): C D\n",
      "Enter an edge (source destination): D E\n",
      "Breadth First Traversal:\n",
      "A B C D E B A C D E C B D A E D C E B A E D C B A "
     ]
    }
   ],
   "source": [
    "from collections import deque\n",
    "\n",
    "def bfs(graph, start_vertex):\n",
    "    queue = deque([start_vertex])\n",
    "\n",
    "    visited = set([start_vertex])\n",
    "\n",
    "    while queue:\n",
    "        vertex = queue.popleft()\n",
    "        print(vertex, end=\" \")\n",
    "\n",
    "        for neighbor in graph[vertex]:\n",
    "            if neighbor not in visited:\n",
    "                visited.add(neighbor)\n",
    "                queue.append(neighbor)\n",
    "\n",
    "\n",
    "graph = {}\n",
    "\n",
    "num_vertices = int(input(\"Enter the number of vertices: \"))\n",
    "num_edges = int(input(\"Enter the number of edges: \"))\n",
    "\n",
    "for _ in range(num_edges):\n",
    "    src, dest = input(\"Enter an edge (source destination): \").split()\n",
    "\n",
    "    if src in graph:\n",
    "        graph[src].append(dest)\n",
    "    else:\n",
    "        graph[src] = [dest]\n",
    "\n",
    "    if dest in graph:\n",
    "        graph[dest].append(src)\n",
    "    else:\n",
    "        graph[dest] = [src]\n",
    "\n",
    "print(\"Breadth First Traversal:\")\n",
    "visited = set()  \n",
    "for vertex in graph.keys():\n",
    "    if vertex not in visited:\n",
    "        bfs(graph, vertex)\n"
   ]
  },
  {
   "cell_type": "code",
   "execution_count": null,
   "id": "e44e8777",
   "metadata": {},
   "outputs": [],
   "source": []
  }
 ],
 "metadata": {
  "kernelspec": {
   "display_name": "Python 3 (ipykernel)",
   "language": "python",
   "name": "python3"
  },
  "language_info": {
   "codemirror_mode": {
    "name": "ipython",
    "version": 3
   },
   "file_extension": ".py",
   "mimetype": "text/x-python",
   "name": "python",
   "nbconvert_exporter": "python",
   "pygments_lexer": "ipython3",
   "version": "3.9.13"
  }
 },
 "nbformat": 4,
 "nbformat_minor": 5
}

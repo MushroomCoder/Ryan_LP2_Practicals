{
 "cells": [
  {
   "cell_type": "code",
   "execution_count": null,
   "id": "32dc739c",
   "metadata": {},
   "outputs": [],
   "source": [
    "Seat No.: T191094350 Name : Aryan Sirdesai\n",
    "        \n",
    "Problem Statement : Implement Greedy search algorithm for Minimum Spanning Tree."
   ]
  },
  {
   "cell_type": "code",
   "execution_count": 3,
   "id": "9e84b4e6",
   "metadata": {},
   "outputs": [
    {
     "name": "stdout",
     "output_type": "stream",
     "text": [
      "Enter the number of vertices: 5\n",
      "Enter the number of edges: 7\n",
      "Enter an edge (source destination weight): A B 2\n",
      "Enter an edge (source destination weight): A C 3\n",
      "Enter an edge (source destination weight): A D 1\n",
      "Enter an edge (source destination weight): B C 4\n",
      "Enter an edge (source destination weight): B E 3\n",
      "Enter an edge (source destination weight): C D 5\n",
      "Enter an edge (source destination weight): C E 1\n",
      "Minimum Spanning Tree:\n",
      "A -- 1 --> D\n",
      "A -- 2 --> B\n",
      "D -- 1 --> A\n",
      "B -- 2 --> A\n",
      "B -- 3 --> E\n",
      "E -- 3 --> B\n",
      "E -- 1 --> C\n",
      "C -- 1 --> E\n"
     ]
    }
   ],
   "source": [
    "from collections import defaultdict\n",
    "\n",
    "def greedy_mst(graph):\n",
    "    mst = defaultdict(list)\n",
    "    \n",
    "    start_vertex = list(graph.keys())[0]\n",
    "    \n",
    "    visited = set([start_vertex])\n",
    "    \n",
    "    while len(visited) < len(graph):\n",
    "        min_weight = float('inf')\n",
    "        min_edge = None\n",
    "        \n",
    "        for vertex in visited:\n",
    "            for adj_vertex, weight in graph[vertex]:\n",
    "                if adj_vertex not in visited and weight < min_weight:\n",
    "                    min_weight = weight\n",
    "                    min_edge = (vertex, adj_vertex)\n",
    "        \n",
    "        \n",
    "        if min_edge is not None:\n",
    "            src, dest = min_edge\n",
    "            mst[src].append((dest, min_weight))\n",
    "            mst[dest].append((src, min_weight))\n",
    "            visited.add(dest)\n",
    "    \n",
    "    return dict(mst)\n",
    "\n",
    "\n",
    "\n",
    "graph = defaultdict(list)\n",
    "\n",
    "\n",
    "num_vertices = int(input(\"Enter the number of vertices: \"))\n",
    "num_edges = int(input(\"Enter the number of edges: \"))\n",
    "\n",
    "\n",
    "for _ in range(num_edges):\n",
    "    src, dest, weight = input(\"Enter an edge (source destination weight): \").split()\n",
    "    weight = int(weight)\n",
    "    graph[src].append((dest, weight))\n",
    "    graph[dest].append((src, weight))\n",
    "\n",
    "\n",
    "mst = greedy_mst(graph)\n",
    "print(\"Minimum Spanning Tree:\")\n",
    "for src, adj_list in mst.items():\n",
    "    for dest, weight in adj_list:\n",
    "        print(f\"{src} -- {weight} --> {dest}\")\n"
   ]
  },
  {
   "cell_type": "code",
   "execution_count": null,
   "id": "7e0c7d28",
   "metadata": {},
   "outputs": [],
   "source": []
  }
 ],
 "metadata": {
  "kernelspec": {
   "display_name": "Python 3 (ipykernel)",
   "language": "python",
   "name": "python3"
  },
  "language_info": {
   "codemirror_mode": {
    "name": "ipython",
    "version": 3
   },
   "file_extension": ".py",
   "mimetype": "text/x-python",
   "name": "python",
   "nbconvert_exporter": "python",
   "pygments_lexer": "ipython3",
   "version": "3.9.13"
  }
 },
 "nbformat": 4,
 "nbformat_minor": 5
}
